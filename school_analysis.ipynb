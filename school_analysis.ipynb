{
 "cells": [
  {
   "cell_type": "markdown",
   "metadata": {},
   "source": [
    "# Analysis of School Data - Performance Indicators"
   ]
  },
  {
   "cell_type": "code",
   "execution_count": 90,
   "metadata": {},
   "outputs": [],
   "source": [
    "# Dependencies and Setup\n",
    "import pandas as pd\n",
    "\n",
    "# Set Default Styling\n",
    "pd.options.display.float_format = '{:,.1f}'.format"
   ]
  },
  {
   "cell_type": "code",
   "execution_count": 91,
   "metadata": {},
   "outputs": [],
   "source": [
    "# File to Load (Remember to Change These)\n",
    "school_data_to_load = \"Resources/schools_complete.csv\"\n",
    "student_data_to_load = \"Resources/students_complete.csv\"\n",
    "\n",
    "# Read School and Student Data File and store into Pandas Data Frames\n",
    "school_data = pd.read_csv(school_data_to_load)\n",
    "student_data = pd.read_csv(student_data_to_load)\n",
    "\n",
    "# Combine the data into a single dataset\n",
    "school_data_complete = pd.merge(student_data, school_data, how=\"left\", on=[\"school_name\", \"school_name\"])\n",
    "\n",
    "#school_data_complete.head()"
   ]
  },
  {
   "cell_type": "markdown",
   "metadata": {},
   "source": [
    "## District Summary"
   ]
  },
  {
   "cell_type": "code",
   "execution_count": 92,
   "metadata": {},
   "outputs": [
    {
     "data": {
      "text/plain": [
       "15"
      ]
     },
     "execution_count": 92,
     "metadata": {},
     "output_type": "execute_result"
    }
   ],
   "source": [
    "# total schools in dataset\n",
    "total_schools = school_data_complete[\"school_name\"].nunique()\n",
    "total_schools"
   ]
  },
  {
   "cell_type": "code",
   "execution_count": 93,
   "metadata": {},
   "outputs": [
    {
     "data": {
      "text/plain": [
       "39170"
      ]
     },
     "execution_count": 93,
     "metadata": {},
     "output_type": "execute_result"
    }
   ],
   "source": [
    "# total number of students\n",
    "total_students = school_data_complete[\"student_name\"].count()\n",
    "total_students"
   ]
  },
  {
   "cell_type": "code",
   "execution_count": 94,
   "metadata": {},
   "outputs": [
    {
     "data": {
      "text/plain": [
       "24649428"
      ]
     },
     "execution_count": 94,
     "metadata": {},
     "output_type": "execute_result"
    }
   ],
   "source": [
    "# school system budget (all schools)\n",
    "total_budget = school_data_complete.loc[:, [\"school_name\",\"budget\"]].drop_duplicates().sum()\n",
    "total_budget=total_budget['budget']\n",
    "total_budget"
   ]
  },
  {
   "cell_type": "code",
   "execution_count": 95,
   "metadata": {},
   "outputs": [
    {
     "data": {
      "text/plain": [
       "78.98537145774827"
      ]
     },
     "execution_count": 95,
     "metadata": {},
     "output_type": "execute_result"
    }
   ],
   "source": [
    "# average math score \n",
    "math_mean = school_data_complete['math_score'].mean()\n",
    "math_mean"
   ]
  },
  {
   "cell_type": "code",
   "execution_count": 96,
   "metadata": {},
   "outputs": [
    {
     "data": {
      "text/plain": [
       "81.87784018381414"
      ]
     },
     "execution_count": 96,
     "metadata": {},
     "output_type": "execute_result"
    }
   ],
   "source": [
    "# average reading score\n",
    "read_mean = school_data_complete['reading_score'].mean()\n",
    "read_mean"
   ]
  },
  {
   "cell_type": "code",
   "execution_count": 97,
   "metadata": {},
   "outputs": [
    {
     "data": {
      "text/plain": [
       "80.43160582078121"
      ]
     },
     "execution_count": 97,
     "metadata": {},
     "output_type": "execute_result"
    }
   ],
   "source": [
    "# non arithmetic mean - might be okay in this example since all students should have scores for both tests\n",
    "pass_mean = (math_mean + read_mean)/2\n",
    "pass_mean"
   ]
  },
  {
   "cell_type": "code",
   "execution_count": 98,
   "metadata": {},
   "outputs": [
    {
     "data": {
      "text/plain": [
       "74.9808526933878"
      ]
     },
     "execution_count": 98,
     "metadata": {},
     "output_type": "execute_result"
    }
   ],
   "source": [
    "# math pass rate > 70\n",
    "pass_math = len(school_data_complete[school_data_complete['math_score']>=70])/total_students*100\n",
    "pass_math"
   ]
  },
  {
   "cell_type": "code",
   "execution_count": 99,
   "metadata": {},
   "outputs": [
    {
     "data": {
      "text/plain": [
       "85.80546336482001"
      ]
     },
     "execution_count": 99,
     "metadata": {},
     "output_type": "execute_result"
    }
   ],
   "source": [
    "# reading pass rate > 70\n",
    "pass_read = len(school_data_complete[school_data_complete['reading_score']>=70])/total_students*100\n",
    "pass_read"
   ]
  },
  {
   "cell_type": "code",
   "execution_count": 100,
   "metadata": {},
   "outputs": [
    {
     "data": {
      "text/html": [
       "<div>\n",
       "<style scoped>\n",
       "    .dataframe tbody tr th:only-of-type {\n",
       "        vertical-align: middle;\n",
       "    }\n",
       "\n",
       "    .dataframe tbody tr th {\n",
       "        vertical-align: top;\n",
       "    }\n",
       "\n",
       "    .dataframe thead th {\n",
       "        text-align: right;\n",
       "    }\n",
       "</style>\n",
       "<table border=\"1\" class=\"dataframe\">\n",
       "  <thead>\n",
       "    <tr style=\"text-align: right;\">\n",
       "      <th></th>\n",
       "      <th>Total Schools</th>\n",
       "      <th>Total Students</th>\n",
       "      <th>Total Budget</th>\n",
       "      <th>Average Math Score</th>\n",
       "      <th>Average Reading Score</th>\n",
       "      <th>Overall % Pass</th>\n",
       "      <th>% Math Pass</th>\n",
       "      <th>% Read Pass</th>\n",
       "    </tr>\n",
       "  </thead>\n",
       "  <tbody>\n",
       "    <tr>\n",
       "      <th>0</th>\n",
       "      <td>15</td>\n",
       "      <td>39170</td>\n",
       "      <td>24649428</td>\n",
       "      <td>79.0</td>\n",
       "      <td>81.9</td>\n",
       "      <td>80.4</td>\n",
       "      <td>75.0</td>\n",
       "      <td>85.8</td>\n",
       "    </tr>\n",
       "  </tbody>\n",
       "</table>\n",
       "</div>"
      ],
      "text/plain": [
       "   Total Schools  Total Students  Total Budget  Average Math Score  \\\n",
       "0             15           39170      24649428                79.0   \n",
       "\n",
       "   Average Reading Score  Overall % Pass  % Math Pass  % Read Pass  \n",
       "0                   81.9            80.4         75.0         85.8  "
      ]
     },
     "execution_count": 100,
     "metadata": {},
     "output_type": "execute_result"
    }
   ],
   "source": [
    "# create dataframe from above scalars\n",
    "data={\n",
    "    'Total Schools':total_schools,\n",
    "    'Total Students':total_students,\n",
    "    'Total Budget':total_budget,\n",
    "    'Average Math Score':math_mean,\n",
    "    'Average Reading Score':read_mean,\n",
    "    'Overall % Pass':pass_mean,\n",
    "    '% Math Pass':pass_math,\n",
    "    '% Read Pass':pass_read\n",
    "}\n",
    "\n",
    "# need to put dictionary in list; defining the index is unnecessary\n",
    "summary_df=pd.DataFrame([data], index=[0])\n",
    "summary_df.head()"
   ]
  },
  {
   "cell_type": "code",
   "execution_count": 101,
   "metadata": {
    "scrolled": true
   },
   "outputs": [
    {
     "data": {
      "text/html": [
       "<style  type=\"text/css\" >\n",
       "</style><table id=\"T_4e67b_\" ><thead>    <tr>        <th class=\"blank level0\" ></th>        <th class=\"col_heading level0 col0\" >Total Schools</th>        <th class=\"col_heading level0 col1\" >Total Students</th>        <th class=\"col_heading level0 col2\" >Total Budget</th>        <th class=\"col_heading level0 col3\" >Average Math Score</th>        <th class=\"col_heading level0 col4\" >Average Reading Score</th>        <th class=\"col_heading level0 col5\" >Overall % Pass</th>        <th class=\"col_heading level0 col6\" >% Math Pass</th>        <th class=\"col_heading level0 col7\" >% Read Pass</th>    </tr></thead><tbody>\n",
       "                <tr>\n",
       "                        <th id=\"T_4e67b_level0_row0\" class=\"row_heading level0 row0\" >0</th>\n",
       "                        <td id=\"T_4e67b_row0_col0\" class=\"data row0 col0\" >15</td>\n",
       "                        <td id=\"T_4e67b_row0_col1\" class=\"data row0 col1\" >39,170</td>\n",
       "                        <td id=\"T_4e67b_row0_col2\" class=\"data row0 col2\" >$24,649,428.00</td>\n",
       "                        <td id=\"T_4e67b_row0_col3\" class=\"data row0 col3\" >78.985371</td>\n",
       "                        <td id=\"T_4e67b_row0_col4\" class=\"data row0 col4\" >81.877840</td>\n",
       "                        <td id=\"T_4e67b_row0_col5\" class=\"data row0 col5\" >80.431606</td>\n",
       "                        <td id=\"T_4e67b_row0_col6\" class=\"data row0 col6\" >74.980853</td>\n",
       "                        <td id=\"T_4e67b_row0_col7\" class=\"data row0 col7\" >85.805463</td>\n",
       "            </tr>\n",
       "    </tbody></table>"
      ],
      "text/plain": [
       "<pandas.io.formats.style.Styler at 0x1fee9312430>"
      ]
     },
     "execution_count": 101,
     "metadata": {},
     "output_type": "execute_result"
    }
   ],
   "source": [
    "# formatting; nice use of dictionary\n",
    "# using `style.format` is probably better than using `.map` since map converts everything to strings. \n",
    "# Note that this overwrites all my previous default settings in cell 1\n",
    "summary_df.style.format({'Total Students': \"{0:,.0f}\",'Total Budget': \"${0:,.2f}\"})"
   ]
  },
  {
   "cell_type": "markdown",
   "metadata": {},
   "source": [
    "## School Summary"
   ]
  },
  {
   "cell_type": "code",
   "execution_count": 117,
   "metadata": {},
   "outputs": [],
   "source": [
    "# make dataframe with school as the index\n",
    "main_df = school_data_complete.loc[:, [\"school_name\",\"type\"]].sort_values(by=['school_name']).drop_duplicates()\n",
    "main_df.set_index(['school_name'], inplace=True)\n",
    "main_df.rename(columns = {\"type\":\"School Type\"}, inplace=True)\n",
    "#main_df.head()"
   ]
  },
  {
   "cell_type": "code",
   "execution_count": 118,
   "metadata": {},
   "outputs": [],
   "source": [
    "# series of total students\n",
    "count_values = school_data_complete.loc[:, [\"school_name\",\"student_name\"]].groupby(\"school_name\").count()\n",
    "count_values.rename(columns = {\"student_name\":\"Total Students\"}, inplace=True)\n",
    "main_df=main_df.merge(count_values, on=['school_name'])"
   ]
  },
  {
   "cell_type": "code",
   "execution_count": 119,
   "metadata": {},
   "outputs": [],
   "source": [
    "# series of school budget\n",
    "total_budget = school_data_complete.loc[:, [\"school_name\",\"budget\"]].drop_duplicates()\n",
    "total_budget.rename(columns = {\"budget\":\"Total School Budget\"}, inplace=True)\n",
    "total_budget.set_index(\"school_name\", inplace=True)\n",
    "main_df=main_df.merge(total_budget, on=['school_name'])\n",
    "#main_df.head()"
   ]
  },
  {
   "cell_type": "code",
   "execution_count": 120,
   "metadata": {},
   "outputs": [],
   "source": [
    "# calculated the school budget per student \n",
    "main_df['Per Student Budget'] = main_df['Total School Budget']/main_df['Total Students']\n",
    "#main_df.head()"
   ]
  },
  {
   "cell_type": "code",
   "execution_count": 121,
   "metadata": {},
   "outputs": [],
   "source": [
    "# create and merge dataframe of test scores for each school\n",
    "mean_values = school_data_complete.loc[:, [\"school_name\",\"student_name\",\"math_score\", \"reading_score\"]].groupby(\"school_name\").mean()\n",
    "mean_values.rename(columns = {\"math_score\":\"Average Math Score\", \"reading_score\":\"Average Reading Score\"}, inplace=True)\n",
    "main_df=main_df.merge(mean_values, on=['school_name'])\n",
    "#main_df.head()"
   ]
  },
  {
   "cell_type": "code",
   "execution_count": 122,
   "metadata": {},
   "outputs": [],
   "source": [
    "# make dataframe of math scores > 70 per school then merge\n",
    "pass_math = school_data_complete[school_data_complete['math_score'] >= 70].groupby(['school_name']).count()\n",
    "pass_percent_math = pass_math['Student ID']/main_df['Total Students']*100\n",
    "pass_percent_math = pass_percent_math.to_frame(\"% Passing Math\")\n",
    "main_df=main_df.merge(pass_percent_math, on=['school_name'])\n",
    "#main_df.head()"
   ]
  },
  {
   "cell_type": "code",
   "execution_count": 123,
   "metadata": {},
   "outputs": [],
   "source": [
    "# make dataframe of reading scores > 70 per school then merge\n",
    "pass_read = school_data_complete[school_data_complete['reading_score'] >= 70].groupby(['school_name']).count()\n",
    "pass_percent_read = pass_read['Student ID']/main_df['Total Students']*100\n",
    "pass_percent_read = pass_percent_read.to_frame(\"% Passing Reading\")\n",
    "main_df=main_df.merge(pass_percent_read, on=['school_name'])\n",
    "#main_df.head()"
   ]
  },
  {
   "cell_type": "code",
   "execution_count": 124,
   "metadata": {},
   "outputs": [],
   "source": [
    "# calculated the better way of doing the estimate  \n",
    "pass_read_and_math = school_data_complete[ (school_data_complete['reading_score'] >= 70) & (school_data_complete['math_score'] >= 70)].groupby('school_name').count()\n",
    "\n",
    "percent_pass_read_and_math = pass_read_and_math['student_name']/main_df['Total Students']*100\n"
   ]
  },
  {
   "cell_type": "code",
   "execution_count": 126,
   "metadata": {},
   "outputs": [
    {
     "data": {
      "text/html": [
       "<div>\n",
       "<style scoped>\n",
       "    .dataframe tbody tr th:only-of-type {\n",
       "        vertical-align: middle;\n",
       "    }\n",
       "\n",
       "    .dataframe tbody tr th {\n",
       "        vertical-align: top;\n",
       "    }\n",
       "\n",
       "    .dataframe thead th {\n",
       "        text-align: right;\n",
       "    }\n",
       "</style>\n",
       "<table border=\"1\" class=\"dataframe\">\n",
       "  <thead>\n",
       "    <tr style=\"text-align: right;\">\n",
       "      <th></th>\n",
       "      <th>School Type</th>\n",
       "      <th>Total Students</th>\n",
       "      <th>Total School Budget</th>\n",
       "      <th>Per Student Budget</th>\n",
       "      <th>Average Math Score</th>\n",
       "      <th>Average Reading Score</th>\n",
       "      <th>% Passing Math</th>\n",
       "      <th>% Passing Reading</th>\n",
       "      <th>Overall % Passing Rate</th>\n",
       "      <th>Better Overall % Passsing</th>\n",
       "    </tr>\n",
       "    <tr>\n",
       "      <th>school_name</th>\n",
       "      <th></th>\n",
       "      <th></th>\n",
       "      <th></th>\n",
       "      <th></th>\n",
       "      <th></th>\n",
       "      <th></th>\n",
       "      <th></th>\n",
       "      <th></th>\n",
       "      <th></th>\n",
       "      <th></th>\n",
       "    </tr>\n",
       "  </thead>\n",
       "  <tbody>\n",
       "    <tr>\n",
       "      <th>Bailey High School</th>\n",
       "      <td>District</td>\n",
       "      <td>4976</td>\n",
       "      <td>3124928</td>\n",
       "      <td>628.0</td>\n",
       "      <td>77.0</td>\n",
       "      <td>81.0</td>\n",
       "      <td>66.7</td>\n",
       "      <td>81.9</td>\n",
       "      <td>74.3</td>\n",
       "      <td>54.6</td>\n",
       "    </tr>\n",
       "    <tr>\n",
       "      <th>Cabrera High School</th>\n",
       "      <td>Charter</td>\n",
       "      <td>1858</td>\n",
       "      <td>1081356</td>\n",
       "      <td>582.0</td>\n",
       "      <td>83.1</td>\n",
       "      <td>84.0</td>\n",
       "      <td>94.1</td>\n",
       "      <td>97.0</td>\n",
       "      <td>95.6</td>\n",
       "      <td>91.3</td>\n",
       "    </tr>\n",
       "    <tr>\n",
       "      <th>Figueroa High School</th>\n",
       "      <td>District</td>\n",
       "      <td>2949</td>\n",
       "      <td>1884411</td>\n",
       "      <td>639.0</td>\n",
       "      <td>76.7</td>\n",
       "      <td>81.2</td>\n",
       "      <td>66.0</td>\n",
       "      <td>80.7</td>\n",
       "      <td>73.4</td>\n",
       "      <td>53.2</td>\n",
       "    </tr>\n",
       "    <tr>\n",
       "      <th>Ford High School</th>\n",
       "      <td>District</td>\n",
       "      <td>2739</td>\n",
       "      <td>1763916</td>\n",
       "      <td>644.0</td>\n",
       "      <td>77.1</td>\n",
       "      <td>80.7</td>\n",
       "      <td>68.3</td>\n",
       "      <td>79.3</td>\n",
       "      <td>73.8</td>\n",
       "      <td>54.3</td>\n",
       "    </tr>\n",
       "    <tr>\n",
       "      <th>Griffin High School</th>\n",
       "      <td>Charter</td>\n",
       "      <td>1468</td>\n",
       "      <td>917500</td>\n",
       "      <td>625.0</td>\n",
       "      <td>83.4</td>\n",
       "      <td>83.8</td>\n",
       "      <td>93.4</td>\n",
       "      <td>97.1</td>\n",
       "      <td>95.3</td>\n",
       "      <td>90.6</td>\n",
       "    </tr>\n",
       "  </tbody>\n",
       "</table>\n",
       "</div>"
      ],
      "text/plain": [
       "                     School Type  Total Students  Total School Budget  \\\n",
       "school_name                                                             \n",
       "Bailey High School      District            4976              3124928   \n",
       "Cabrera High School      Charter            1858              1081356   \n",
       "Figueroa High School    District            2949              1884411   \n",
       "Ford High School        District            2739              1763916   \n",
       "Griffin High School      Charter            1468               917500   \n",
       "\n",
       "                      Per Student Budget  Average Math Score  \\\n",
       "school_name                                                    \n",
       "Bailey High School                 628.0                77.0   \n",
       "Cabrera High School                582.0                83.1   \n",
       "Figueroa High School               639.0                76.7   \n",
       "Ford High School                   644.0                77.1   \n",
       "Griffin High School                625.0                83.4   \n",
       "\n",
       "                      Average Reading Score  % Passing Math  \\\n",
       "school_name                                                   \n",
       "Bailey High School                     81.0            66.7   \n",
       "Cabrera High School                    84.0            94.1   \n",
       "Figueroa High School                   81.2            66.0   \n",
       "Ford High School                       80.7            68.3   \n",
       "Griffin High School                    83.8            93.4   \n",
       "\n",
       "                      % Passing Reading  Overall % Passing Rate  \\\n",
       "school_name                                                       \n",
       "Bailey High School                 81.9                    74.3   \n",
       "Cabrera High School                97.0                    95.6   \n",
       "Figueroa High School               80.7                    73.4   \n",
       "Ford High School                   79.3                    73.8   \n",
       "Griffin High School                97.1                    95.3   \n",
       "\n",
       "                      Better Overall % Passsing  \n",
       "school_name                                      \n",
       "Bailey High School                         54.6  \n",
       "Cabrera High School                        91.3  \n",
       "Figueroa High School                       53.2  \n",
       "Ford High School                           54.3  \n",
       "Griffin High School                        90.6  "
      ]
     },
     "execution_count": 126,
     "metadata": {},
     "output_type": "execute_result"
    }
   ],
   "source": [
    "# calculated non-weighted percent overall passing \n",
    "# this is not actually the correct way since it is not weighted.\n",
    "# this value will always be between the two test scores (an average)\n",
    "main_df['Overall % Passing Rate']= (main_df['% Passing Math'] + main_df['% Passing Reading'])/2\n",
    "\n",
    "# display the better way of doing the estimate  \n",
    "main_df['Better Overall % Passsing'] = percent_pass_read_and_math\n",
    "\n",
    "main_df.head()"
   ]
  },
  {
   "cell_type": "markdown",
   "metadata": {},
   "source": [
    "## Top Performing Schools (By Passing Rate)"
   ]
  },
  {
   "cell_type": "code",
   "execution_count": 127,
   "metadata": {},
   "outputs": [
    {
     "data": {
      "text/html": [
       "<div>\n",
       "<style scoped>\n",
       "    .dataframe tbody tr th:only-of-type {\n",
       "        vertical-align: middle;\n",
       "    }\n",
       "\n",
       "    .dataframe tbody tr th {\n",
       "        vertical-align: top;\n",
       "    }\n",
       "\n",
       "    .dataframe thead th {\n",
       "        text-align: right;\n",
       "    }\n",
       "</style>\n",
       "<table border=\"1\" class=\"dataframe\">\n",
       "  <thead>\n",
       "    <tr style=\"text-align: right;\">\n",
       "      <th></th>\n",
       "      <th>School Type</th>\n",
       "      <th>Total Students</th>\n",
       "      <th>Total School Budget</th>\n",
       "      <th>Per Student Budget</th>\n",
       "      <th>Average Math Score</th>\n",
       "      <th>Average Reading Score</th>\n",
       "      <th>% Passing Math</th>\n",
       "      <th>% Passing Reading</th>\n",
       "      <th>Overall % Passing Rate</th>\n",
       "      <th>Better Overall % Passsing</th>\n",
       "    </tr>\n",
       "    <tr>\n",
       "      <th>school_name</th>\n",
       "      <th></th>\n",
       "      <th></th>\n",
       "      <th></th>\n",
       "      <th></th>\n",
       "      <th></th>\n",
       "      <th></th>\n",
       "      <th></th>\n",
       "      <th></th>\n",
       "      <th></th>\n",
       "      <th></th>\n",
       "    </tr>\n",
       "  </thead>\n",
       "  <tbody>\n",
       "    <tr>\n",
       "      <th>Cabrera High School</th>\n",
       "      <td>Charter</td>\n",
       "      <td>1858</td>\n",
       "      <td>1081356</td>\n",
       "      <td>582.0</td>\n",
       "      <td>83.1</td>\n",
       "      <td>84.0</td>\n",
       "      <td>94.1</td>\n",
       "      <td>97.0</td>\n",
       "      <td>95.6</td>\n",
       "      <td>91.3</td>\n",
       "    </tr>\n",
       "    <tr>\n",
       "      <th>Thomas High School</th>\n",
       "      <td>Charter</td>\n",
       "      <td>1635</td>\n",
       "      <td>1043130</td>\n",
       "      <td>638.0</td>\n",
       "      <td>83.4</td>\n",
       "      <td>83.8</td>\n",
       "      <td>93.3</td>\n",
       "      <td>97.3</td>\n",
       "      <td>95.3</td>\n",
       "      <td>90.9</td>\n",
       "    </tr>\n",
       "    <tr>\n",
       "      <th>Pena High School</th>\n",
       "      <td>Charter</td>\n",
       "      <td>962</td>\n",
       "      <td>585858</td>\n",
       "      <td>609.0</td>\n",
       "      <td>83.8</td>\n",
       "      <td>84.0</td>\n",
       "      <td>94.6</td>\n",
       "      <td>95.9</td>\n",
       "      <td>95.3</td>\n",
       "      <td>90.5</td>\n",
       "    </tr>\n",
       "    <tr>\n",
       "      <th>Griffin High School</th>\n",
       "      <td>Charter</td>\n",
       "      <td>1468</td>\n",
       "      <td>917500</td>\n",
       "      <td>625.0</td>\n",
       "      <td>83.4</td>\n",
       "      <td>83.8</td>\n",
       "      <td>93.4</td>\n",
       "      <td>97.1</td>\n",
       "      <td>95.3</td>\n",
       "      <td>90.6</td>\n",
       "    </tr>\n",
       "    <tr>\n",
       "      <th>Wilson High School</th>\n",
       "      <td>Charter</td>\n",
       "      <td>2283</td>\n",
       "      <td>1319574</td>\n",
       "      <td>578.0</td>\n",
       "      <td>83.3</td>\n",
       "      <td>84.0</td>\n",
       "      <td>93.9</td>\n",
       "      <td>96.5</td>\n",
       "      <td>95.2</td>\n",
       "      <td>90.6</td>\n",
       "    </tr>\n",
       "  </tbody>\n",
       "</table>\n",
       "</div>"
      ],
      "text/plain": [
       "                    School Type  Total Students  Total School Budget  \\\n",
       "school_name                                                            \n",
       "Cabrera High School     Charter            1858              1081356   \n",
       "Thomas High School      Charter            1635              1043130   \n",
       "Pena High School        Charter             962               585858   \n",
       "Griffin High School     Charter            1468               917500   \n",
       "Wilson High School      Charter            2283              1319574   \n",
       "\n",
       "                     Per Student Budget  Average Math Score  \\\n",
       "school_name                                                   \n",
       "Cabrera High School               582.0                83.1   \n",
       "Thomas High School                638.0                83.4   \n",
       "Pena High School                  609.0                83.8   \n",
       "Griffin High School               625.0                83.4   \n",
       "Wilson High School                578.0                83.3   \n",
       "\n",
       "                     Average Reading Score  % Passing Math  % Passing Reading  \\\n",
       "school_name                                                                     \n",
       "Cabrera High School                   84.0            94.1               97.0   \n",
       "Thomas High School                    83.8            93.3               97.3   \n",
       "Pena High School                      84.0            94.6               95.9   \n",
       "Griffin High School                   83.8            93.4               97.1   \n",
       "Wilson High School                    84.0            93.9               96.5   \n",
       "\n",
       "                     Overall % Passing Rate  Better Overall % Passsing  \n",
       "school_name                                                             \n",
       "Cabrera High School                    95.6                       91.3  \n",
       "Thomas High School                     95.3                       90.9  \n",
       "Pena High School                       95.3                       90.5  \n",
       "Griffin High School                    95.3                       90.6  \n",
       "Wilson High School                     95.2                       90.6  "
      ]
     },
     "execution_count": 127,
     "metadata": {},
     "output_type": "execute_result"
    }
   ],
   "source": [
    "# Sort and display the top five schools in overall passing rate\n",
    "main_df.sort_values('Overall % Passing Rate', ascending=False).head()"
   ]
  },
  {
   "cell_type": "markdown",
   "metadata": {},
   "source": [
    "## Bottom Performing Schools (By Passing Rate)"
   ]
  },
  {
   "cell_type": "code",
   "execution_count": 128,
   "metadata": {},
   "outputs": [
    {
     "data": {
      "text/html": [
       "<div>\n",
       "<style scoped>\n",
       "    .dataframe tbody tr th:only-of-type {\n",
       "        vertical-align: middle;\n",
       "    }\n",
       "\n",
       "    .dataframe tbody tr th {\n",
       "        vertical-align: top;\n",
       "    }\n",
       "\n",
       "    .dataframe thead th {\n",
       "        text-align: right;\n",
       "    }\n",
       "</style>\n",
       "<table border=\"1\" class=\"dataframe\">\n",
       "  <thead>\n",
       "    <tr style=\"text-align: right;\">\n",
       "      <th></th>\n",
       "      <th>School Type</th>\n",
       "      <th>Total Students</th>\n",
       "      <th>Total School Budget</th>\n",
       "      <th>Per Student Budget</th>\n",
       "      <th>Average Math Score</th>\n",
       "      <th>Average Reading Score</th>\n",
       "      <th>% Passing Math</th>\n",
       "      <th>% Passing Reading</th>\n",
       "      <th>Overall % Passing Rate</th>\n",
       "      <th>Better Overall % Passsing</th>\n",
       "    </tr>\n",
       "    <tr>\n",
       "      <th>school_name</th>\n",
       "      <th></th>\n",
       "      <th></th>\n",
       "      <th></th>\n",
       "      <th></th>\n",
       "      <th></th>\n",
       "      <th></th>\n",
       "      <th></th>\n",
       "      <th></th>\n",
       "      <th></th>\n",
       "      <th></th>\n",
       "    </tr>\n",
       "  </thead>\n",
       "  <tbody>\n",
       "    <tr>\n",
       "      <th>Rodriguez High School</th>\n",
       "      <td>District</td>\n",
       "      <td>3999</td>\n",
       "      <td>2547363</td>\n",
       "      <td>637.0</td>\n",
       "      <td>76.8</td>\n",
       "      <td>80.7</td>\n",
       "      <td>66.4</td>\n",
       "      <td>80.2</td>\n",
       "      <td>73.3</td>\n",
       "      <td>53.0</td>\n",
       "    </tr>\n",
       "    <tr>\n",
       "      <th>Figueroa High School</th>\n",
       "      <td>District</td>\n",
       "      <td>2949</td>\n",
       "      <td>1884411</td>\n",
       "      <td>639.0</td>\n",
       "      <td>76.7</td>\n",
       "      <td>81.2</td>\n",
       "      <td>66.0</td>\n",
       "      <td>80.7</td>\n",
       "      <td>73.4</td>\n",
       "      <td>53.2</td>\n",
       "    </tr>\n",
       "    <tr>\n",
       "      <th>Huang High School</th>\n",
       "      <td>District</td>\n",
       "      <td>2917</td>\n",
       "      <td>1910635</td>\n",
       "      <td>655.0</td>\n",
       "      <td>76.6</td>\n",
       "      <td>81.2</td>\n",
       "      <td>65.7</td>\n",
       "      <td>81.3</td>\n",
       "      <td>73.5</td>\n",
       "      <td>53.5</td>\n",
       "    </tr>\n",
       "    <tr>\n",
       "      <th>Johnson High School</th>\n",
       "      <td>District</td>\n",
       "      <td>4761</td>\n",
       "      <td>3094650</td>\n",
       "      <td>650.0</td>\n",
       "      <td>77.1</td>\n",
       "      <td>81.0</td>\n",
       "      <td>66.1</td>\n",
       "      <td>81.2</td>\n",
       "      <td>73.6</td>\n",
       "      <td>53.5</td>\n",
       "    </tr>\n",
       "    <tr>\n",
       "      <th>Ford High School</th>\n",
       "      <td>District</td>\n",
       "      <td>2739</td>\n",
       "      <td>1763916</td>\n",
       "      <td>644.0</td>\n",
       "      <td>77.1</td>\n",
       "      <td>80.7</td>\n",
       "      <td>68.3</td>\n",
       "      <td>79.3</td>\n",
       "      <td>73.8</td>\n",
       "      <td>54.3</td>\n",
       "    </tr>\n",
       "  </tbody>\n",
       "</table>\n",
       "</div>"
      ],
      "text/plain": [
       "                      School Type  Total Students  Total School Budget  \\\n",
       "school_name                                                              \n",
       "Rodriguez High School    District            3999              2547363   \n",
       "Figueroa High School     District            2949              1884411   \n",
       "Huang High School        District            2917              1910635   \n",
       "Johnson High School      District            4761              3094650   \n",
       "Ford High School         District            2739              1763916   \n",
       "\n",
       "                       Per Student Budget  Average Math Score  \\\n",
       "school_name                                                     \n",
       "Rodriguez High School               637.0                76.8   \n",
       "Figueroa High School                639.0                76.7   \n",
       "Huang High School                   655.0                76.6   \n",
       "Johnson High School                 650.0                77.1   \n",
       "Ford High School                    644.0                77.1   \n",
       "\n",
       "                       Average Reading Score  % Passing Math  \\\n",
       "school_name                                                    \n",
       "Rodriguez High School                   80.7            66.4   \n",
       "Figueroa High School                    81.2            66.0   \n",
       "Huang High School                       81.2            65.7   \n",
       "Johnson High School                     81.0            66.1   \n",
       "Ford High School                        80.7            68.3   \n",
       "\n",
       "                       % Passing Reading  Overall % Passing Rate  \\\n",
       "school_name                                                        \n",
       "Rodriguez High School               80.2                    73.3   \n",
       "Figueroa High School                80.7                    73.4   \n",
       "Huang High School                   81.3                    73.5   \n",
       "Johnson High School                 81.2                    73.6   \n",
       "Ford High School                    79.3                    73.8   \n",
       "\n",
       "                       Better Overall % Passsing  \n",
       "school_name                                       \n",
       "Rodriguez High School                       53.0  \n",
       "Figueroa High School                        53.2  \n",
       "Huang High School                           53.5  \n",
       "Johnson High School                         53.5  \n",
       "Ford High School                            54.3  "
      ]
     },
     "execution_count": 128,
     "metadata": {},
     "output_type": "execute_result"
    }
   ],
   "source": [
    "# Sort and display the five worst-performing schools\n",
    "main_df.sort_values('Overall % Passing Rate').head()"
   ]
  },
  {
   "cell_type": "markdown",
   "metadata": {},
   "source": [
    "## Math Scores by Grade"
   ]
  },
  {
   "cell_type": "code",
   "execution_count": 137,
   "metadata": {},
   "outputs": [
    {
     "data": {
      "text/html": [
       "<div>\n",
       "<style scoped>\n",
       "    .dataframe tbody tr th:only-of-type {\n",
       "        vertical-align: middle;\n",
       "    }\n",
       "\n",
       "    .dataframe tbody tr th {\n",
       "        vertical-align: top;\n",
       "    }\n",
       "\n",
       "    .dataframe thead th {\n",
       "        text-align: right;\n",
       "    }\n",
       "</style>\n",
       "<table border=\"1\" class=\"dataframe\">\n",
       "  <thead>\n",
       "    <tr style=\"text-align: right;\">\n",
       "      <th></th>\n",
       "      <th>9th</th>\n",
       "      <th>10th</th>\n",
       "      <th>11th</th>\n",
       "      <th>12th</th>\n",
       "    </tr>\n",
       "    <tr>\n",
       "      <th>school_name</th>\n",
       "      <th></th>\n",
       "      <th></th>\n",
       "      <th></th>\n",
       "      <th></th>\n",
       "    </tr>\n",
       "  </thead>\n",
       "  <tbody>\n",
       "    <tr>\n",
       "      <th>Bailey High School</th>\n",
       "      <td>77.1</td>\n",
       "      <td>77.0</td>\n",
       "      <td>77.5</td>\n",
       "      <td>76.5</td>\n",
       "    </tr>\n",
       "    <tr>\n",
       "      <th>Cabrera High School</th>\n",
       "      <td>83.1</td>\n",
       "      <td>83.2</td>\n",
       "      <td>82.8</td>\n",
       "      <td>83.3</td>\n",
       "    </tr>\n",
       "    <tr>\n",
       "      <th>Figueroa High School</th>\n",
       "      <td>76.4</td>\n",
       "      <td>76.5</td>\n",
       "      <td>76.9</td>\n",
       "      <td>77.2</td>\n",
       "    </tr>\n",
       "    <tr>\n",
       "      <th>Ford High School</th>\n",
       "      <td>77.4</td>\n",
       "      <td>77.7</td>\n",
       "      <td>76.9</td>\n",
       "      <td>76.2</td>\n",
       "    </tr>\n",
       "    <tr>\n",
       "      <th>Griffin High School</th>\n",
       "      <td>82.0</td>\n",
       "      <td>84.2</td>\n",
       "      <td>83.8</td>\n",
       "      <td>83.4</td>\n",
       "    </tr>\n",
       "    <tr>\n",
       "      <th>Hernandez High School</th>\n",
       "      <td>77.4</td>\n",
       "      <td>77.3</td>\n",
       "      <td>77.1</td>\n",
       "      <td>77.2</td>\n",
       "    </tr>\n",
       "    <tr>\n",
       "      <th>Holden High School</th>\n",
       "      <td>83.8</td>\n",
       "      <td>83.4</td>\n",
       "      <td>85.0</td>\n",
       "      <td>82.9</td>\n",
       "    </tr>\n",
       "    <tr>\n",
       "      <th>Huang High School</th>\n",
       "      <td>77.0</td>\n",
       "      <td>75.9</td>\n",
       "      <td>76.4</td>\n",
       "      <td>77.2</td>\n",
       "    </tr>\n",
       "    <tr>\n",
       "      <th>Johnson High School</th>\n",
       "      <td>77.2</td>\n",
       "      <td>76.7</td>\n",
       "      <td>77.5</td>\n",
       "      <td>76.9</td>\n",
       "    </tr>\n",
       "    <tr>\n",
       "      <th>Pena High School</th>\n",
       "      <td>83.6</td>\n",
       "      <td>83.4</td>\n",
       "      <td>84.3</td>\n",
       "      <td>84.1</td>\n",
       "    </tr>\n",
       "    <tr>\n",
       "      <th>Rodriguez High School</th>\n",
       "      <td>76.9</td>\n",
       "      <td>76.6</td>\n",
       "      <td>76.4</td>\n",
       "      <td>77.7</td>\n",
       "    </tr>\n",
       "    <tr>\n",
       "      <th>Shelton High School</th>\n",
       "      <td>83.4</td>\n",
       "      <td>82.9</td>\n",
       "      <td>83.4</td>\n",
       "      <td>83.8</td>\n",
       "    </tr>\n",
       "    <tr>\n",
       "      <th>Thomas High School</th>\n",
       "      <td>83.6</td>\n",
       "      <td>83.1</td>\n",
       "      <td>83.5</td>\n",
       "      <td>83.5</td>\n",
       "    </tr>\n",
       "    <tr>\n",
       "      <th>Wilson High School</th>\n",
       "      <td>83.1</td>\n",
       "      <td>83.7</td>\n",
       "      <td>83.2</td>\n",
       "      <td>83.0</td>\n",
       "    </tr>\n",
       "    <tr>\n",
       "      <th>Wright High School</th>\n",
       "      <td>83.3</td>\n",
       "      <td>84.0</td>\n",
       "      <td>83.8</td>\n",
       "      <td>83.6</td>\n",
       "    </tr>\n",
       "  </tbody>\n",
       "</table>\n",
       "</div>"
      ],
      "text/plain": [
       "                       9th  10th  11th  12th\n",
       "school_name                                 \n",
       "Bailey High School    77.1  77.0  77.5  76.5\n",
       "Cabrera High School   83.1  83.2  82.8  83.3\n",
       "Figueroa High School  76.4  76.5  76.9  77.2\n",
       "Ford High School      77.4  77.7  76.9  76.2\n",
       "Griffin High School   82.0  84.2  83.8  83.4\n",
       "Hernandez High School 77.4  77.3  77.1  77.2\n",
       "Holden High School    83.8  83.4  85.0  82.9\n",
       "Huang High School     77.0  75.9  76.4  77.2\n",
       "Johnson High School   77.2  76.7  77.5  76.9\n",
       "Pena High School      83.6  83.4  84.3  84.1\n",
       "Rodriguez High School 76.9  76.6  76.4  77.7\n",
       "Shelton High School   83.4  82.9  83.4  83.8\n",
       "Thomas High School    83.6  83.1  83.5  83.5\n",
       "Wilson High School    83.1  83.7  83.2  83.0\n",
       "Wright High School    83.3  84.0  83.8  83.6"
      ]
     },
     "execution_count": 137,
     "metadata": {},
     "output_type": "execute_result"
    }
   ],
   "source": [
    "#Create dataframes for each set of data\n",
    "g9_math = school_data_complete[school_data_complete['grade'] == '9th'].groupby(['school_name'])\n",
    "g9_math_vals = g9_math[['school_name','math_score']].mean()\n",
    "g10_math = school_data_complete[school_data_complete['grade'] == '10th'].groupby(['school_name'])\n",
    "g10_math_vals = g10_math[['school_name','math_score']].mean()\n",
    "g11_math = school_data_complete[school_data_complete['grade'] == '11th'].groupby(['school_name'])\n",
    "g11_math_vals = g11_math[['school_name','math_score']].mean()\n",
    "g12_math = school_data_complete[school_data_complete['grade'] == '12th'].groupby(['school_name'])\n",
    "g12_math_vals = g12_math[['school_name','math_score']].mean()\n",
    "\n",
    "#Merge the dataframes into one dataframe and rename after each\n",
    "df_1=g9_math_vals.merge(g10_math_vals, on='school_name')\n",
    "df_1.rename(columns={'math_score_x':\"9th\", 'math_score_y':\"10th\"}, inplace=True)\n",
    "df_1=df_1.merge(g11_math_vals, on='school_name')\n",
    "df_1.rename(columns={'math_score':\"11th\"}, inplace=True)\n",
    "df_1=df_1.merge(g12_math_vals, on='school_name')\n",
    "df_1.rename(columns={'math_score':\"12th\"}, inplace=True)\n",
    "\n",
    "df_1"
   ]
  },
  {
   "cell_type": "markdown",
   "metadata": {},
   "source": [
    "## Reading Score by Grade "
   ]
  },
  {
   "cell_type": "code",
   "execution_count": 130,
   "metadata": {},
   "outputs": [
    {
     "data": {
      "text/html": [
       "<div>\n",
       "<style scoped>\n",
       "    .dataframe tbody tr th:only-of-type {\n",
       "        vertical-align: middle;\n",
       "    }\n",
       "\n",
       "    .dataframe tbody tr th {\n",
       "        vertical-align: top;\n",
       "    }\n",
       "\n",
       "    .dataframe thead th {\n",
       "        text-align: right;\n",
       "    }\n",
       "</style>\n",
       "<table border=\"1\" class=\"dataframe\">\n",
       "  <thead>\n",
       "    <tr style=\"text-align: right;\">\n",
       "      <th></th>\n",
       "      <th>9th</th>\n",
       "      <th>10th</th>\n",
       "      <th>11th</th>\n",
       "      <th>12th</th>\n",
       "    </tr>\n",
       "    <tr>\n",
       "      <th>school_name</th>\n",
       "      <th></th>\n",
       "      <th></th>\n",
       "      <th></th>\n",
       "      <th></th>\n",
       "    </tr>\n",
       "  </thead>\n",
       "  <tbody>\n",
       "    <tr>\n",
       "      <th>Bailey High School</th>\n",
       "      <td>81.3</td>\n",
       "      <td>80.9</td>\n",
       "      <td>80.9</td>\n",
       "      <td>80.9</td>\n",
       "    </tr>\n",
       "    <tr>\n",
       "      <th>Cabrera High School</th>\n",
       "      <td>83.7</td>\n",
       "      <td>84.3</td>\n",
       "      <td>83.8</td>\n",
       "      <td>84.3</td>\n",
       "    </tr>\n",
       "    <tr>\n",
       "      <th>Figueroa High School</th>\n",
       "      <td>81.2</td>\n",
       "      <td>81.4</td>\n",
       "      <td>80.6</td>\n",
       "      <td>81.4</td>\n",
       "    </tr>\n",
       "    <tr>\n",
       "      <th>Ford High School</th>\n",
       "      <td>80.6</td>\n",
       "      <td>81.3</td>\n",
       "      <td>80.4</td>\n",
       "      <td>80.7</td>\n",
       "    </tr>\n",
       "    <tr>\n",
       "      <th>Griffin High School</th>\n",
       "      <td>83.4</td>\n",
       "      <td>83.7</td>\n",
       "      <td>84.3</td>\n",
       "      <td>84.0</td>\n",
       "    </tr>\n",
       "  </tbody>\n",
       "</table>\n",
       "</div>"
      ],
      "text/plain": [
       "                      9th  10th  11th  12th\n",
       "school_name                                \n",
       "Bailey High School   81.3  80.9  80.9  80.9\n",
       "Cabrera High School  83.7  84.3  83.8  84.3\n",
       "Figueroa High School 81.2  81.4  80.6  81.4\n",
       "Ford High School     80.6  81.3  80.4  80.7\n",
       "Griffin High School  83.4  83.7  84.3  84.0"
      ]
     },
     "execution_count": 130,
     "metadata": {},
     "output_type": "execute_result"
    }
   ],
   "source": [
    "#Create dataframes for each set of data\n",
    "g9_read = school_data_complete[school_data_complete['grade'] == '9th'].groupby(['school_name'])\n",
    "g9_read_vals = g9_read[['school_name','reading_score']].mean()\n",
    "g10_read = school_data_complete[school_data_complete['grade'] == '10th'].groupby(['school_name'])\n",
    "g10_read_vals = g10_read[['school_name','reading_score']].mean()\n",
    "g11_read = school_data_complete[school_data_complete['grade'] == '11th'].groupby(['school_name'])\n",
    "g11_read_vals = g11_read[['school_name','reading_score']].mean()\n",
    "g12_read = school_data_complete[school_data_complete['grade'] == '12th'].groupby(['school_name'])\n",
    "g12_read_vals = g12_read[['school_name','reading_score']].mean()\n",
    "\n",
    "#Merge the dataframes into one dataframe and rename after each\n",
    "df_1=g9_read_vals.merge(g10_read_vals, on='school_name')\n",
    "df_1.rename(columns={'reading_score_x':\"9th\", 'reading_score_y':\"10th\"}, inplace=True)\n",
    "df_1=df_1.merge(g11_read_vals, on='school_name')\n",
    "df_1.rename(columns={'reading_score':\"11th\"}, inplace=True)\n",
    "df_1=df_1.merge(g12_read_vals, on='school_name')\n",
    "df_1.rename(columns={'reading_score':\"12th\"}, inplace=True)\n",
    "\n",
    "\n",
    "df_1.head()"
   ]
  },
  {
   "cell_type": "markdown",
   "metadata": {},
   "source": [
    "## Scores by School Spending"
   ]
  },
  {
   "cell_type": "code",
   "execution_count": 131,
   "metadata": {},
   "outputs": [],
   "source": [
    "# Sample bins.\n",
    "spending_bins = [0, 585, 615, 645, 675]\n",
    "group_names = [\"<$585\", \"$585-615\", \"$615-645\", \"$645-675\"]"
   ]
  },
  {
   "cell_type": "code",
   "execution_count": 133,
   "metadata": {},
   "outputs": [
    {
     "data": {
      "text/html": [
       "<div>\n",
       "<style scoped>\n",
       "    .dataframe tbody tr th:only-of-type {\n",
       "        vertical-align: middle;\n",
       "    }\n",
       "\n",
       "    .dataframe tbody tr th {\n",
       "        vertical-align: top;\n",
       "    }\n",
       "\n",
       "    .dataframe thead th {\n",
       "        text-align: right;\n",
       "    }\n",
       "</style>\n",
       "<table border=\"1\" class=\"dataframe\">\n",
       "  <thead>\n",
       "    <tr style=\"text-align: right;\">\n",
       "      <th></th>\n",
       "      <th>Average Math Score</th>\n",
       "      <th>Average Reading Score</th>\n",
       "      <th>% Passing Math</th>\n",
       "      <th>% Passing Reading</th>\n",
       "      <th>Overall % Passing Rate</th>\n",
       "    </tr>\n",
       "    <tr>\n",
       "      <th>Spending Ranges (Per Student)</th>\n",
       "      <th></th>\n",
       "      <th></th>\n",
       "      <th></th>\n",
       "      <th></th>\n",
       "      <th></th>\n",
       "    </tr>\n",
       "  </thead>\n",
       "  <tbody>\n",
       "    <tr>\n",
       "      <th>&lt;$585</th>\n",
       "      <td>83.5</td>\n",
       "      <td>83.9</td>\n",
       "      <td>93.5</td>\n",
       "      <td>96.6</td>\n",
       "      <td>95.0</td>\n",
       "    </tr>\n",
       "    <tr>\n",
       "      <th>$585-615</th>\n",
       "      <td>83.6</td>\n",
       "      <td>83.9</td>\n",
       "      <td>94.2</td>\n",
       "      <td>95.9</td>\n",
       "      <td>95.1</td>\n",
       "    </tr>\n",
       "    <tr>\n",
       "      <th>$615-645</th>\n",
       "      <td>79.1</td>\n",
       "      <td>81.9</td>\n",
       "      <td>75.7</td>\n",
       "      <td>86.1</td>\n",
       "      <td>80.9</td>\n",
       "    </tr>\n",
       "    <tr>\n",
       "      <th>$645-675</th>\n",
       "      <td>77.0</td>\n",
       "      <td>81.0</td>\n",
       "      <td>66.2</td>\n",
       "      <td>81.1</td>\n",
       "      <td>73.6</td>\n",
       "    </tr>\n",
       "  </tbody>\n",
       "</table>\n",
       "</div>"
      ],
      "text/plain": [
       "                               Average Math Score  Average Reading Score  \\\n",
       "Spending Ranges (Per Student)                                              \n",
       "<$585                                        83.5                   83.9   \n",
       "$585-615                                     83.6                   83.9   \n",
       "$615-645                                     79.1                   81.9   \n",
       "$645-675                                     77.0                   81.0   \n",
       "\n",
       "                               % Passing Math  % Passing Reading  \\\n",
       "Spending Ranges (Per Student)                                      \n",
       "<$585                                    93.5               96.6   \n",
       "$585-615                                 94.2               95.9   \n",
       "$615-645                                 75.7               86.1   \n",
       "$645-675                                 66.2               81.1   \n",
       "\n",
       "                               Overall % Passing Rate  \n",
       "Spending Ranges (Per Student)                          \n",
       "<$585                                            95.0  \n",
       "$585-615                                         95.1  \n",
       "$615-645                                         80.9  \n",
       "$645-675                                         73.6  "
      ]
     },
     "execution_count": 133,
     "metadata": {},
     "output_type": "execute_result"
    }
   ],
   "source": [
    "#This is simple average of category values and is not weighted\n",
    "filter_df = main_df.loc[:, ['Per Student Budget','Average Math Score', 'Average Reading Score','% Passing Math', '% Passing Reading', 'Overall % Passing Rate']]\n",
    "filter_df[\"Spending Ranges (Per Student)\"] = pd.cut(filter_df['Per Student Budget'], spending_bins, labels=group_names)\n",
    "filter_df.drop(columns=['Per Student Budget'], inplace=True)\n",
    "filter_df = filter_df.groupby(['Spending Ranges (Per Student)'])\n",
    "filter_df.mean()"
   ]
  },
  {
   "cell_type": "markdown",
   "metadata": {},
   "source": [
    "## Scores by School Size"
   ]
  },
  {
   "cell_type": "code",
   "execution_count": 134,
   "metadata": {},
   "outputs": [],
   "source": [
    "# Sample bins.\n",
    "size_bins = [0, 1000, 2000, 5000]\n",
    "group_names = [\"Small (<1000)\", \"Medium (1000-2000)\", \"Large (2000-5000)\"]"
   ]
  },
  {
   "cell_type": "code",
   "execution_count": 135,
   "metadata": {},
   "outputs": [
    {
     "data": {
      "text/html": [
       "<div>\n",
       "<style scoped>\n",
       "    .dataframe tbody tr th:only-of-type {\n",
       "        vertical-align: middle;\n",
       "    }\n",
       "\n",
       "    .dataframe tbody tr th {\n",
       "        vertical-align: top;\n",
       "    }\n",
       "\n",
       "    .dataframe thead th {\n",
       "        text-align: right;\n",
       "    }\n",
       "</style>\n",
       "<table border=\"1\" class=\"dataframe\">\n",
       "  <thead>\n",
       "    <tr style=\"text-align: right;\">\n",
       "      <th></th>\n",
       "      <th>Average Math Score</th>\n",
       "      <th>Average Reading Score</th>\n",
       "      <th>% Passing Math</th>\n",
       "      <th>% Passing Reading</th>\n",
       "      <th>Overall % Passing Rate</th>\n",
       "    </tr>\n",
       "    <tr>\n",
       "      <th>School Size</th>\n",
       "      <th></th>\n",
       "      <th></th>\n",
       "      <th></th>\n",
       "      <th></th>\n",
       "      <th></th>\n",
       "    </tr>\n",
       "  </thead>\n",
       "  <tbody>\n",
       "    <tr>\n",
       "      <th>Small (&lt;1000)</th>\n",
       "      <td>83.8</td>\n",
       "      <td>83.9</td>\n",
       "      <td>93.6</td>\n",
       "      <td>96.1</td>\n",
       "      <td>94.8</td>\n",
       "    </tr>\n",
       "    <tr>\n",
       "      <th>Medium (1000-2000)</th>\n",
       "      <td>83.4</td>\n",
       "      <td>83.9</td>\n",
       "      <td>93.6</td>\n",
       "      <td>96.8</td>\n",
       "      <td>95.2</td>\n",
       "    </tr>\n",
       "    <tr>\n",
       "      <th>Large (2000-5000)</th>\n",
       "      <td>77.7</td>\n",
       "      <td>81.3</td>\n",
       "      <td>70.0</td>\n",
       "      <td>82.8</td>\n",
       "      <td>76.4</td>\n",
       "    </tr>\n",
       "  </tbody>\n",
       "</table>\n",
       "</div>"
      ],
      "text/plain": [
       "                    Average Math Score  Average Reading Score  % Passing Math  \\\n",
       "School Size                                                                     \n",
       "Small (<1000)                     83.8                   83.9            93.6   \n",
       "Medium (1000-2000)                83.4                   83.9            93.6   \n",
       "Large (2000-5000)                 77.7                   81.3            70.0   \n",
       "\n",
       "                    % Passing Reading  Overall % Passing Rate  \n",
       "School Size                                                    \n",
       "Small (<1000)                    96.1                    94.8  \n",
       "Medium (1000-2000)               96.8                    95.2  \n",
       "Large (2000-5000)                82.8                    76.4  "
      ]
     },
     "execution_count": 135,
     "metadata": {},
     "output_type": "execute_result"
    }
   ],
   "source": [
    "#Copy and paste and replace of above code\n",
    "filter2_df = main_df.loc[:, ['Total Students','Average Math Score', 'Average Reading Score','% Passing Math', '% Passing Reading', 'Overall % Passing Rate']]\n",
    "filter2_df[\"School Size\"] = pd.cut(filter2_df['Total Students'], size_bins, labels=group_names)\n",
    "filter2_df.drop(columns=['Total Students'], inplace=True)\n",
    "filter2_df = filter2_df.groupby(['School Size'])\n",
    "filter2_df.mean()"
   ]
  },
  {
   "cell_type": "markdown",
   "metadata": {},
   "source": [
    "## Scores by School Type"
   ]
  },
  {
   "cell_type": "code",
   "execution_count": 136,
   "metadata": {},
   "outputs": [
    {
     "data": {
      "text/html": [
       "<div>\n",
       "<style scoped>\n",
       "    .dataframe tbody tr th:only-of-type {\n",
       "        vertical-align: middle;\n",
       "    }\n",
       "\n",
       "    .dataframe tbody tr th {\n",
       "        vertical-align: top;\n",
       "    }\n",
       "\n",
       "    .dataframe thead th {\n",
       "        text-align: right;\n",
       "    }\n",
       "</style>\n",
       "<table border=\"1\" class=\"dataframe\">\n",
       "  <thead>\n",
       "    <tr style=\"text-align: right;\">\n",
       "      <th></th>\n",
       "      <th>Average Math Score</th>\n",
       "      <th>Average Reading Score</th>\n",
       "      <th>% Passing Math</th>\n",
       "      <th>% Passing Reading</th>\n",
       "      <th>Overall % Passing Rate</th>\n",
       "    </tr>\n",
       "    <tr>\n",
       "      <th>School Type</th>\n",
       "      <th></th>\n",
       "      <th></th>\n",
       "      <th></th>\n",
       "      <th></th>\n",
       "      <th></th>\n",
       "    </tr>\n",
       "  </thead>\n",
       "  <tbody>\n",
       "    <tr>\n",
       "      <th>Charter</th>\n",
       "      <td>83.5</td>\n",
       "      <td>83.9</td>\n",
       "      <td>93.6</td>\n",
       "      <td>96.6</td>\n",
       "      <td>95.1</td>\n",
       "    </tr>\n",
       "    <tr>\n",
       "      <th>District</th>\n",
       "      <td>77.0</td>\n",
       "      <td>81.0</td>\n",
       "      <td>66.5</td>\n",
       "      <td>80.8</td>\n",
       "      <td>73.7</td>\n",
       "    </tr>\n",
       "  </tbody>\n",
       "</table>\n",
       "</div>"
      ],
      "text/plain": [
       "             Average Math Score  Average Reading Score  % Passing Math  \\\n",
       "School Type                                                              \n",
       "Charter                    83.5                   83.9            93.6   \n",
       "District                   77.0                   81.0            66.5   \n",
       "\n",
       "             % Passing Reading  Overall % Passing Rate  \n",
       "School Type                                             \n",
       "Charter                   96.6                    95.1  \n",
       "District                  80.8                    73.7  "
      ]
     },
     "execution_count": 136,
     "metadata": {},
     "output_type": "execute_result"
    }
   ],
   "source": [
    "# Perform the same operations as above, based on school type.\n",
    "#This is a variation of above but the binning is not really necessary...\n",
    "filter3_df = main_df.loc[:, ['School Type','Average Math Score', 'Average Reading Score','% Passing Math', '% Passing Reading', 'Overall % Passing Rate']]\n",
    "filter3_df=filter3_df.groupby(['School Type'])\n",
    "filter3_df.mean()"
   ]
  },
  {
   "cell_type": "code",
   "execution_count": null,
   "metadata": {},
   "outputs": [],
   "source": []
  }
 ],
 "metadata": {
  "anaconda-cloud": {},
  "kernel_info": {
   "name": "python3"
  },
  "kernelspec": {
   "display_name": "Python 3",
   "language": "python",
   "name": "python3"
  },
  "language_info": {
   "codemirror_mode": {
    "name": "ipython",
    "version": 3
   },
   "file_extension": ".py",
   "mimetype": "text/x-python",
   "name": "python",
   "nbconvert_exporter": "python",
   "pygments_lexer": "ipython3",
   "version": "3.8.8"
  },
  "latex_envs": {
   "LaTeX_envs_menu_present": true,
   "autoclose": false,
   "autocomplete": true,
   "bibliofile": "biblio.bib",
   "cite_by": "apalike",
   "current_citInitial": 1,
   "eqLabelWithNumbers": true,
   "eqNumInitial": 1,
   "hotkeys": {
    "equation": "Ctrl-E",
    "itemize": "Ctrl-I"
   },
   "labels_anchors": false,
   "latex_user_defs": false,
   "report_style_numbering": false,
   "user_envs_cfg": false
  },
  "nteract": {
   "version": "0.8.4"
  }
 },
 "nbformat": 4,
 "nbformat_minor": 4
}
